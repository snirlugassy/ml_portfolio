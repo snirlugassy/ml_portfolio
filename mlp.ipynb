{
 "cells": [
  {
   "cell_type": "code",
   "execution_count": 1,
   "metadata": {},
   "outputs": [],
   "source": [
    "import os\n",
    "import sys\n",
    "import pickle\n",
    "\n",
    "import torch\n",
    "from torch.utils.data import Dataset, DataLoader\n",
    "\n",
    "import numpy as np\n",
    "import pandas as pd\n",
    "import matplotlib.pyplot as plt\n",
    "\n",
    "# turn off dark mode\n",
    "plt.style.use('default')\n",
    "\n",
    "from tqdm import tqdm"
   ]
  },
  {
   "cell_type": "code",
   "execution_count": 2,
   "metadata": {},
   "outputs": [],
   "source": [
    "class StockReturnsDataset(Dataset):\n",
    "    def __init__(self, dataset: pd.DataFrame) -> None:\n",
    "        super().__init__()\n",
    "        # preprocess dataset\n",
    "        self.returns = dataset.pct_change(1, fill_method=\"ffill\")[1:]\n",
    "\n",
    "    def __len__(self):\n",
    "        return len(self.returns) - 1\n",
    "\n",
    "    def __getitem__(self, index):\n",
    "        i, j = self.returns.index[index], self.returns.index[index + 1]\n",
    "        x = self.returns.loc[i].values\n",
    "        y = self.returns.loc[j].values\n",
    "\n",
    "        x = torch.from_numpy(x).float()\n",
    "        y = torch.from_numpy(y).float()\n",
    "        return x, y"
   ]
  },
  {
   "cell_type": "code",
   "execution_count": 33,
   "metadata": {},
   "outputs": [],
   "source": [
    "with open(\"train_dataset.pkl\", \"rb\") as f:\n",
    "    train_df = pickle.load(f)\n",
    "\n",
    "train_df = train_df['Adj Close'] # market close value\n",
    "train_df = train_df.fillna(method='ffill') # attempt to fill nan values\n",
    "train_df = train_df.dropna(axis=1) # remove stocks with nan values that couldn't be filled\n",
    "\n",
    "assert pd.isna(train_df).any().sum() == 0\n",
    "\n",
    "stocks = train_df.columns # stocks to keep without nan values\n",
    "\n",
    "with open(\"test_dataset.pkl\", \"rb\") as f:\n",
    "    test_df = pickle.load(f)\n",
    "\n",
    "test_df = test_df['Adj Close']\n",
    "test_df = test_df[stocks]\n",
    "\n",
    "assert pd.isna(test_df).any().sum() == 0"
   ]
  },
  {
   "cell_type": "code",
   "execution_count": 34,
   "metadata": {},
   "outputs": [
    {
     "name": "stdout",
     "output_type": "stream",
     "text": [
      "train dataset length 1234\n",
      "test dataset length 19\n"
     ]
    },
    {
     "data": {
      "text/plain": [
       "(torch.Size([16, 493]), torch.Size([16, 493]))"
      ]
     },
     "execution_count": 34,
     "metadata": {},
     "output_type": "execute_result"
    }
   ],
   "source": [
    "train_dataset = StockReturnsDataset(train_df)\n",
    "test_dataset = StockReturnsDataset(test_df)\n",
    "\n",
    "print(\"train dataset length\", len(train_dataset))\n",
    "print(\"test dataset length\", len(test_dataset))\n",
    "\n",
    "train_loader = DataLoader(train_dataset, batch_size=16, shuffle=True)\n",
    "test_loader = DataLoader(test_dataset, batch_size=16, shuffle=False)\n",
    "\n",
    "x,y = next(iter(train_loader))\n",
    "x.shape, y.shape"
   ]
  },
  {
   "cell_type": "code",
   "execution_count": 98,
   "metadata": {},
   "outputs": [],
   "source": [
    "class RRNet(torch.nn.Module):\n",
    "    def __init__(self, dim, depth, activation=torch.nn.ReLU, dropout=0.3) -> None:\n",
    "        super().__init__()\n",
    "        self.dim = dim\n",
    "        self.depth = depth\n",
    "        self.activation = activation\n",
    "        self.dropout = dropout\n",
    "\n",
    "        _mlps = []\n",
    "        for _ in range(depth):\n",
    "            _mlps.append(torch.nn.Linear(dim, dim))\n",
    "            _mlps.append(activation())\n",
    "            _mlps.append(torch.nn.Dropout(dropout))\n",
    "        _mlps.append(torch.nn.Linear(dim, dim)) # last layer without activation\n",
    "        self.mlps = torch.nn.Sequential(*_mlps)\n",
    "\n",
    "    def forward(self, x):\n",
    "        # forward pass with skip connection\n",
    "        # return x + self.mlps(x)\n",
    "        x = self.mlps(x)\n",
    "\n",
    "        # s = x.sum(dim=1)\n",
    "        # s = s.unsqueeze(1).repeat(1, self.dim)\n",
    "        # x = x / s # normalize sum=1\n",
    "\n",
    "        x = torch.nn.functional.normalize(x, dim=1, p=2)\n",
    "        return x"
   ]
  },
  {
   "cell_type": "code",
   "execution_count": 90,
   "metadata": {},
   "outputs": [],
   "source": [
    "def num_params(module):\n",
    "    return sum(p.numel() for p in module.parameters() if p.requires_grad)"
   ]
  },
  {
   "cell_type": "code",
   "execution_count": 103,
   "metadata": {},
   "outputs": [
    {
     "name": "stdout",
     "output_type": "stream",
     "text": [
      "number of parameters: 1704794\n"
     ]
    },
    {
     "data": {
      "text/plain": [
       "RRNet(\n",
       "  (mlps): Sequential(\n",
       "    (0): Linear(in_features=493, out_features=493, bias=True)\n",
       "    (1): ReLU()\n",
       "    (2): Dropout(p=0.3, inplace=False)\n",
       "    (3): Linear(in_features=493, out_features=493, bias=True)\n",
       "    (4): ReLU()\n",
       "    (5): Dropout(p=0.3, inplace=False)\n",
       "    (6): Linear(in_features=493, out_features=493, bias=True)\n",
       "    (7): ReLU()\n",
       "    (8): Dropout(p=0.3, inplace=False)\n",
       "    (9): Linear(in_features=493, out_features=493, bias=True)\n",
       "    (10): ReLU()\n",
       "    (11): Dropout(p=0.3, inplace=False)\n",
       "    (12): Linear(in_features=493, out_features=493, bias=True)\n",
       "    (13): ReLU()\n",
       "    (14): Dropout(p=0.3, inplace=False)\n",
       "    (15): Linear(in_features=493, out_features=493, bias=True)\n",
       "    (16): ReLU()\n",
       "    (17): Dropout(p=0.3, inplace=False)\n",
       "    (18): Linear(in_features=493, out_features=493, bias=True)\n",
       "  )\n",
       ")"
      ]
     },
     "execution_count": 103,
     "metadata": {},
     "output_type": "execute_result"
    }
   ],
   "source": [
    "dim = len(stocks)\n",
    "network_depth = 6\n",
    "\n",
    "net = RRNet(dim=dim, depth=network_depth, activation=torch.nn.ReLU, dropout=0.3)\n",
    "\n",
    "print(\"number of parameters:\", num_params(net))\n",
    "net"
   ]
  },
  {
   "cell_type": "code",
   "execution_count": 100,
   "metadata": {},
   "outputs": [
    {
     "data": {
      "text/plain": [
       "(0.009431523270905018, 0.004421398043632507)"
      ]
     },
     "execution_count": 100,
     "metadata": {},
     "output_type": "execute_result"
    }
   ],
   "source": [
    "def test_model(model, loader):\n",
    "    \"\"\"\n",
    "    using the network predicted returns to evaluate the model\n",
    "    \"\"\"\n",
    "    R = []\n",
    "    with torch.no_grad():\n",
    "        for x, y in loader:\n",
    "            w = model(x)\n",
    "            r = (w * y).sum(dim=1).mean()\n",
    "            R.append(r.item())\n",
    "    return np.nanmean(R), np.nanstd(R)\n",
    "\n",
    "test_model(net, test_loader)"
   ]
  },
  {
   "cell_type": "code",
   "execution_count": 104,
   "metadata": {},
   "outputs": [
    {
     "name": "stdout",
     "output_type": "stream",
     "text": [
      "epoch 1/20\n"
     ]
    },
    {
     "name": "stderr",
     "output_type": "stream",
     "text": [
      "100%|██████████| 78/78 [00:03<00:00, 23.73it/s]\n"
     ]
    },
    {
     "name": "stdout",
     "output_type": "stream",
     "text": [
      "epoch 2/20\n"
     ]
    },
    {
     "name": "stderr",
     "output_type": "stream",
     "text": [
      "100%|██████████| 78/78 [00:02<00:00, 27.18it/s]\n"
     ]
    },
    {
     "name": "stdout",
     "output_type": "stream",
     "text": [
      "epoch 3/20\n"
     ]
    },
    {
     "name": "stderr",
     "output_type": "stream",
     "text": [
      "100%|██████████| 78/78 [00:03<00:00, 25.65it/s]\n"
     ]
    },
    {
     "name": "stdout",
     "output_type": "stream",
     "text": [
      "epoch 4/20\n"
     ]
    },
    {
     "name": "stderr",
     "output_type": "stream",
     "text": [
      "100%|██████████| 78/78 [00:02<00:00, 27.11it/s]\n"
     ]
    },
    {
     "name": "stdout",
     "output_type": "stream",
     "text": [
      "epoch 5/20\n"
     ]
    },
    {
     "name": "stderr",
     "output_type": "stream",
     "text": [
      "100%|██████████| 78/78 [00:02<00:00, 28.58it/s]\n"
     ]
    },
    {
     "name": "stdout",
     "output_type": "stream",
     "text": [
      "epoch 6/20\n"
     ]
    },
    {
     "name": "stderr",
     "output_type": "stream",
     "text": [
      "100%|██████████| 78/78 [00:02<00:00, 30.56it/s]\n"
     ]
    },
    {
     "name": "stdout",
     "output_type": "stream",
     "text": [
      "epoch 7/20\n"
     ]
    },
    {
     "name": "stderr",
     "output_type": "stream",
     "text": [
      "100%|██████████| 78/78 [00:02<00:00, 30.57it/s]\n"
     ]
    },
    {
     "name": "stdout",
     "output_type": "stream",
     "text": [
      "epoch 8/20\n"
     ]
    },
    {
     "name": "stderr",
     "output_type": "stream",
     "text": [
      "100%|██████████| 78/78 [00:02<00:00, 28.87it/s]\n"
     ]
    },
    {
     "name": "stdout",
     "output_type": "stream",
     "text": [
      "epoch 9/20\n"
     ]
    },
    {
     "name": "stderr",
     "output_type": "stream",
     "text": [
      "100%|██████████| 78/78 [00:02<00:00, 27.01it/s]\n"
     ]
    },
    {
     "name": "stdout",
     "output_type": "stream",
     "text": [
      "epoch 10/20\n"
     ]
    },
    {
     "name": "stderr",
     "output_type": "stream",
     "text": [
      "100%|██████████| 78/78 [00:03<00:00, 24.67it/s]\n"
     ]
    },
    {
     "name": "stdout",
     "output_type": "stream",
     "text": [
      "epoch 11/20\n"
     ]
    },
    {
     "name": "stderr",
     "output_type": "stream",
     "text": [
      "100%|██████████| 78/78 [00:03<00:00, 23.14it/s]\n"
     ]
    },
    {
     "name": "stdout",
     "output_type": "stream",
     "text": [
      "epoch 12/20\n"
     ]
    },
    {
     "name": "stderr",
     "output_type": "stream",
     "text": [
      "100%|██████████| 78/78 [00:03<00:00, 24.18it/s]\n"
     ]
    },
    {
     "name": "stdout",
     "output_type": "stream",
     "text": [
      "epoch 13/20\n"
     ]
    },
    {
     "name": "stderr",
     "output_type": "stream",
     "text": [
      "100%|██████████| 78/78 [00:03<00:00, 20.47it/s]\n"
     ]
    },
    {
     "name": "stdout",
     "output_type": "stream",
     "text": [
      "epoch 14/20\n"
     ]
    },
    {
     "name": "stderr",
     "output_type": "stream",
     "text": [
      "100%|██████████| 78/78 [00:04<00:00, 17.78it/s]\n"
     ]
    },
    {
     "name": "stdout",
     "output_type": "stream",
     "text": [
      "epoch 15/20\n"
     ]
    },
    {
     "name": "stderr",
     "output_type": "stream",
     "text": [
      "100%|██████████| 78/78 [00:03<00:00, 20.72it/s]\n"
     ]
    },
    {
     "name": "stdout",
     "output_type": "stream",
     "text": [
      "epoch 16/20\n"
     ]
    },
    {
     "name": "stderr",
     "output_type": "stream",
     "text": [
      "100%|██████████| 78/78 [00:04<00:00, 19.37it/s]\n"
     ]
    },
    {
     "name": "stdout",
     "output_type": "stream",
     "text": [
      "epoch 17/20\n"
     ]
    },
    {
     "name": "stderr",
     "output_type": "stream",
     "text": [
      "100%|██████████| 78/78 [00:03<00:00, 22.43it/s]\n"
     ]
    },
    {
     "name": "stdout",
     "output_type": "stream",
     "text": [
      "epoch 18/20\n"
     ]
    },
    {
     "name": "stderr",
     "output_type": "stream",
     "text": [
      "100%|██████████| 78/78 [00:03<00:00, 21.54it/s]\n"
     ]
    },
    {
     "name": "stdout",
     "output_type": "stream",
     "text": [
      "epoch 19/20\n"
     ]
    },
    {
     "name": "stderr",
     "output_type": "stream",
     "text": [
      "100%|██████████| 78/78 [00:05<00:00, 14.77it/s]\n"
     ]
    },
    {
     "name": "stdout",
     "output_type": "stream",
     "text": [
      "epoch 20/20\n"
     ]
    },
    {
     "name": "stderr",
     "output_type": "stream",
     "text": [
      "100%|██████████| 78/78 [00:03<00:00, 22.96it/s]\n"
     ]
    }
   ],
   "source": [
    "# training loop\n",
    "\n",
    "EPOCHS = 20\n",
    "\n",
    "optimizer = torch.optim.Adam(net.parameters(), lr=0.001, maximize=True)\n",
    "device = \"cpu\"\n",
    "\n",
    "net.train()\n",
    "\n",
    "test_return, test_std = [], []\n",
    "\n",
    "for epoch in range(EPOCHS):\n",
    "    running_return = 0.0\n",
    "    print(f\"epoch {epoch + 1}/{EPOCHS}\")\n",
    "    with tqdm(total=len(train_loader)) as progress:\n",
    "        for i, (X, y) in enumerate(train_loader):\n",
    "            X = X.to(device)\n",
    "            y = y.to(device)\n",
    "\n",
    "            # forward\n",
    "            output = net(X)\n",
    "            R = (output * y).sum(dim=1).mean()\n",
    "\n",
    "            # backward\n",
    "            optimizer.zero_grad()\n",
    "            R.backward()\n",
    "            optimizer.step()\n",
    "\n",
    "            # print statistics\n",
    "            # progress.set_postfix(R=R)\n",
    "            progress.update()\n",
    "\n",
    "    # evaluate on test set\n",
    "    _r, _s = test_model(net, test_loader)\n",
    "    test_return.append(_r)\n",
    "    test_std.append(_s)"
   ]
  },
  {
   "cell_type": "code",
   "execution_count": 105,
   "metadata": {},
   "outputs": [
    {
     "data": {
      "image/png": "[encoded data removed]",
      "text/plain": [
       "<Figure size 640x480 with 1 Axes>"
      ]
     },
     "metadata": {},
     "output_type": "display_data"
    }
   ],
   "source": [
    "plt.plot(test_return, label=\"test\")\n",
    "plt.xticks(np.arange(1, EPOCHS+1, 1))\n",
    "plt.ylabel(\"Return\")\n",
    "plt.xlabel(\"Epoch\")\n",
    "plt.legend()\n",
    "plt.show()"
   ]
  }
 ],
 "metadata": {
  "kernelspec": {
   "display_name": "base",
   "language": "python",
   "name": "python3"
  },
  "language_info": {
   "codemirror_mode": {
    "name": "ipython",
    "version": 3
   },
   "file_extension": ".py",
   "mimetype": "text/x-python",
   "name": "python",
   "nbconvert_exporter": "python",
   "pygments_lexer": "ipython3",
   "version": "3.9.7"
  },
  "orig_nbformat": 4
 },
 "nbformat": 4,
 "nbformat_minor": 2
}
