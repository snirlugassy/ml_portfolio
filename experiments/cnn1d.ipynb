{
 "cells": [
  {
   "cell_type": "code",
   "execution_count": 152,
   "metadata": {},
   "outputs": [
    {
     "data": {
      "text/plain": [
       "<torch._C.Generator at 0x7fca0371d770>"
      ]
     },
     "execution_count": 152,
     "metadata": {},
     "output_type": "execute_result"
    }
   ],
   "source": [
    "import os\n",
    "import sys\n",
    "import pickle\n",
    "\n",
    "import torch\n",
    "from torch.utils.data import Dataset, DataLoader\n",
    "\n",
    "import numpy as np\n",
    "import pandas as pd\n",
    "import matplotlib.pyplot as plt\n",
    "\n",
    "# turn off dark mode\n",
    "plt.style.use('default')\n",
    "\n",
    "from tqdm import tqdm\n",
    "\n",
    "np.random.seed(42)\n",
    "torch.manual_seed(42)"
   ]
  },
  {
   "cell_type": "code",
   "execution_count": 153,
   "metadata": {},
   "outputs": [],
   "source": [
    "with open(\"../train_dataset.pkl\", \"rb\") as f:\n",
    "    train_df: pd.DataFrame = pickle.load(f)['Adj Close']\n",
    "\n",
    "train_df = train_df.fillna(method='ffill') # attempt to fill nan values\n",
    "train_df = train_df.pct_change(1)[1:].fillna(0.0)\n",
    "\n",
    "assert pd.isna(train_df).any().sum() == 0\n",
    "\n",
    "# stocks = train_df.columns # stocks to keep without nan values\n",
    "\n",
    "with open(\"../test_dataset.pkl\", \"rb\") as f:\n",
    "    test_df = pickle.load(f)['Adj Close']\n",
    "\n",
    "test_df = test_df.pct_change(1)[1:]\n",
    "\n",
    "assert pd.isna(test_df).any().sum() == 0"
   ]
  },
  {
   "cell_type": "code",
   "execution_count": 154,
   "metadata": {},
   "outputs": [],
   "source": [
    "class ReturnWindowDataset(Dataset):\n",
    "    def __init__(self, df, window_size) -> None:\n",
    "        super().__init__()\n",
    "        self.df = df\n",
    "        self.w = window_size\n",
    "    \n",
    "    def __len__(self) -> int:\n",
    "        return len(self.df) - self.w\n",
    "\n",
    "    def __getitem__(self, index) -> tuple[torch.Tensor, torch.Tensor]:\n",
    "        X = train_df.iloc[index:index + self.w].values\n",
    "        y = train_df.iloc[index + self.w].values\n",
    "        \n",
    "        X = torch.from_numpy(X).float()\n",
    "        y = torch.from_numpy(y).float()\n",
    "\n",
    "        return X, y\n"
   ]
  },
  {
   "cell_type": "code",
   "execution_count": 155,
   "metadata": {},
   "outputs": [
    {
     "data": {
      "text/plain": [
       "(torch.Size([16, 10, 503]), torch.Size([16, 503]))"
      ]
     },
     "execution_count": 155,
     "metadata": {},
     "output_type": "execute_result"
    }
   ],
   "source": [
    "device = \"cuda:0\"\n",
    "\n",
    "dataset = ReturnWindowDataset(train_df, window_size=10)\n",
    "dataloader = DataLoader(dataset, batch_size=16, shuffle=True)\n",
    "\n",
    "x,y = next(iter(dataloader))\n",
    "x.shape, y.shape"
   ]
  },
  {
   "cell_type": "code",
   "execution_count": 156,
   "metadata": {},
   "outputs": [
    {
     "data": {
      "text/plain": [
       "torch.Size([16, 503])"
      ]
     },
     "execution_count": 156,
     "metadata": {},
     "output_type": "execute_result"
    }
   ],
   "source": [
    "class Net(torch.nn.Module):\n",
    "    def __init__(self, window_size, ) -> None:\n",
    "        super().__init__()\n",
    "        \n",
    "        self.cnn_blocks = torch.nn.Sequential(\n",
    "            torch.nn.Conv1d(window_size, 64, kernel_size=5, padding=\"same\"),\n",
    "            torch.nn.Tanh(),\n",
    "            torch.nn.Conv1d(64, 128, kernel_size=5, padding=\"same\"),\n",
    "            torch.nn.Tanh(),\n",
    "            torch.nn.Conv1d(128, 256, kernel_size=5, padding=\"same\"),\n",
    "            torch.nn.Tanh(),\n",
    "            torch.nn.Conv1d(256, 512, kernel_size=5, padding=\"same\"),\n",
    "            torch.nn.Tanh(),\n",
    "        )\n",
    "\n",
    "        self.lin = torch.nn.Sequential(\n",
    "            torch.nn.Linear(512, 128),\n",
    "            torch.nn.ELU(),\n",
    "            torch.nn.Linear(128, 32),\n",
    "            torch.nn.ELU(),\n",
    "            torch.nn.Linear(32, 1),\n",
    "        )\n",
    "\n",
    "    def forward(self, x):\n",
    "        x = self.cnn_blocks(x)\n",
    "        x = x.transpose(2,1)\n",
    "        x = self.lin(x).squeeze(-1)\n",
    "        x = x / x.sum(dim=1).unsqueeze(1) # normalize weights, sum to 1\n",
    "        return x\n",
    "\n",
    "\n",
    "net = Net(10).to(device)\n",
    "output = net(x.to(device))\n",
    "output.shape"
   ]
  },
  {
   "cell_type": "code",
   "execution_count": 161,
   "metadata": {},
   "outputs": [
    {
     "name": "stderr",
     "output_type": "stream",
     "text": [
      "/tmp/ipykernel_265584/1081259425.py:37: FutureWarning: Calling float on a single element Series is deprecated and will raise a TypeError in the future. Use float(ser.iloc[0]) instead\n",
      "  sharpe = float(mean_return / std_returns)\n"
     ]
    },
    {
     "data": {
      "text/plain": [
       "(0.3480411985387405, 0.0002069892160829368)"
      ]
     },
     "execution_count": 161,
     "metadata": {},
     "output_type": "execute_result"
    }
   ],
   "source": [
    "START_DATE = '2018-07-01'\n",
    "END_TRAIN_DATE = '2023-05-31'\n",
    "END_TEST_DATE = '2023-06-30'\n",
    "\n",
    "def get_data():\n",
    "    with open(\"../dataset.pkl\", \"rb\") as f:\n",
    "        data = pickle.load(f)\n",
    "    return data\n",
    "\n",
    "full_train = get_data()['Adj Close']\n",
    "all_stocks = full_train.columns.to_list()\n",
    "\n",
    "def test(network):\n",
    "    returns = []\n",
    "    # strategy = portfolio(weights_path)\n",
    "    for test_date in pd.date_range(END_TRAIN_DATE, END_TEST_DATE):\n",
    "        if test_date not in full_train.index:\n",
    "            continue\n",
    "        train = full_train[full_train.index < test_date]\n",
    "        X = train.pct_change(1)[1:].fillna(0.0)[-10:].values\n",
    "        X = torch.from_numpy(X).float().unsqueeze(0).to(device)\n",
    "\n",
    "        with torch.no_grad():\n",
    "            cur_portfolio = network(X).squeeze(0).cpu().numpy()\n",
    "\n",
    "        if not np.isclose(cur_portfolio.sum(), 1):\n",
    "            raise ValueError(f'The sum of the portfolio should be 1, not {cur_portfolio.sum()}')\n",
    "        \n",
    "        test_data = full_train.loc[test_date].to_numpy()\n",
    "        prev_test_data = train.iloc[-1].to_numpy()\n",
    "        test_data = test_data / prev_test_data - 1\n",
    "        cur_return = cur_portfolio @ test_data\n",
    "        returns.append({'date': test_date, 'return': cur_return})\n",
    "\n",
    "    returns = pd.DataFrame(returns).set_index('date')\n",
    "    mean_return, std_returns = np.mean(returns), np.std(returns)\n",
    "    sharpe = float(mean_return / std_returns)\n",
    "    # print(\"Sharp Ratio: \", sharpe)\n",
    "\n",
    "    # portfolio variance\n",
    "    cov_matrix = full_train.pct_change().cov()\n",
    "    port_variance = np.dot(cur_portfolio.T, np.dot(cov_matrix, cur_portfolio))\n",
    "    # print(\"Portfolio Variance: \", port_variance)\n",
    "\n",
    "    return sharpe, port_variance\n",
    "\n",
    "test(net)"
   ]
  },
  {
   "cell_type": "code",
   "execution_count": 162,
   "metadata": {},
   "outputs": [
    {
     "name": "stderr",
     "output_type": "stream",
     "text": [
      " 24%|██▍       | 75/308 [00:02<00:07, 29.42it/s, epoch=1]/tmp/ipykernel_265584/1081259425.py:37: FutureWarning: Calling float on a single element Series is deprecated and will raise a TypeError in the future. Use float(ser.iloc[0]) instead\n",
      "  sharpe = float(mean_return / std_returns)\n",
      "100%|██████████| 308/308 [00:17<00:00, 17.63it/s, epoch=4]\n"
     ]
    },
    {
     "data": {
      "image/png": "[encoded data removed]",
      "text/plain": [
       "<Figure size 640x480 with 1 Axes>"
      ]
     },
     "metadata": {},
     "output_type": "display_data"
    },
    {
     "data": {
      "image/png": "[encoded data removed]",
      "text/plain": [
       "<Figure size 640x480 with 1 Axes>"
      ]
     },
     "metadata": {},
     "output_type": "display_data"
    }
   ],
   "source": [
    "optimizer = torch.optim.Adam(net.parameters(), lr=0.0001, maximize=True, weight_decay=0.1)\n",
    "lr_sched = torch.optim.lr_scheduler.StepLR(optimizer, step_size=10, gamma=0.9)\n",
    "\n",
    "EPOCHS = 4\n",
    "W = 10\n",
    "\n",
    "net = Net(window_size=W)\n",
    "net = net.to(device)\n",
    "net.train()\n",
    "\n",
    "targets = []\n",
    "test_sharpe = []\n",
    "test_variance = []\n",
    "\n",
    "with tqdm(total=EPOCHS * len(dataloader), postfix={\"epoch\":0}) as progress:\n",
    "    for epoch in range(EPOCHS):\n",
    "        progress.set_postfix(epoch=(epoch + 1))\n",
    "        s = []\n",
    "        for i, (X, y) in enumerate(dataloader):\n",
    "            X = X.to(device)\n",
    "            y = y.to(device)\n",
    "\n",
    "            # forward\n",
    "            output = net(X)\n",
    "            r = output * y\n",
    "            sharpe_ratio = torch.mean(torch.std(r, dim=-1) / torch.mean(r, dim=-1))\n",
    "            s.append(sharpe_ratio.item())\n",
    "\n",
    "            # backward\n",
    "            optimizer.zero_grad()\n",
    "            sharpe_ratio.backward()\n",
    "            optimizer.step()\n",
    "            lr_sched.step()\n",
    "\n",
    "            # print statistics\n",
    "            # progress.set_postfix(R=R)\n",
    "            progress.update()\n",
    "        targets.append(sum(s) / len(s))\n",
    "\n",
    "        net.eval()\n",
    "        s,v = test(net)\n",
    "        net.train()\n",
    "        test_sharpe.append(s)\n",
    "        test_variance.append(v)\n",
    "\n",
    "plt.figure()\n",
    "plt.title(\"Training Sharpe Ratio\")\n",
    "plt.xlabel(\"epoch\")\n",
    "plt.ylabel(\"sharpe\")\n",
    "plt.plot(targets)\n",
    "plt.show()\n",
    "\n",
    "plt.figure()\n",
    "plt.title(\"Test metrics\")\n",
    "plt.xlabel(\"epoch\")\n",
    "plt.ylabel(\"sharpe\")\n",
    "plt.plot(test_sharpe, label=\"sharpe\")\n",
    "plt.plot(test_variance, label=\"variance\")\n",
    "plt.show()"
   ]
  },
  {
   "cell_type": "code",
   "execution_count": 63,
   "metadata": {},
   "outputs": [],
   "source": [
    "torch.save(net.state_dict(), \"./cnn_1d_v1/net_cnn1d_weights.pth\")"
   ]
  },
  {
   "cell_type": "code",
   "execution_count": 105,
   "metadata": {},
   "outputs": [],
   "source": []
  }
 ],
 "metadata": {
  "kernelspec": {
   "display_name": "mm",
   "language": "python",
   "name": "python3"
  },
  "language_info": {
   "codemirror_mode": {
    "name": "ipython",
    "version": 3
   },
   "file_extension": ".py",
   "mimetype": "text/x-python",
   "name": "python",
   "nbconvert_exporter": "python",
   "pygments_lexer": "ipython3",
   "version": "3.10.12"
  },
  "orig_nbformat": 4
 },
 "nbformat": 4,
 "nbformat_minor": 2
}
