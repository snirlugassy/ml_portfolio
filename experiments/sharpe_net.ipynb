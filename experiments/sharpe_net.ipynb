{
 "cells": [
  {
   "cell_type": "code",
   "execution_count": 1,
   "metadata": {},
   "outputs": [],
   "source": [
    "import os\n",
    "import sys\n",
    "import pickle\n",
    "\n",
    "import torch\n",
    "from torch.utils.data import Dataset, DataLoader\n",
    "\n",
    "import numpy as np\n",
    "import pandas as pd\n",
    "import matplotlib.pyplot as plt\n",
    "\n",
    "# turn off dark mode\n",
    "plt.style.use('default')\n",
    "\n",
    "from tqdm import tqdm"
   ]
  },
  {
   "cell_type": "code",
   "execution_count": 2,
   "metadata": {},
   "outputs": [],
   "source": [
    "class StockReturnsDataset(Dataset):\n",
    "    def __init__(self, dataset: pd.DataFrame, apply_augment=True) -> None:\n",
    "        super().__init__()\n",
    "        # preprocess dataset\n",
    "        self.returns = dataset.pct_change(1, fill_method=\"ffill\")[1:]\n",
    "        self.apply_augment = apply_augment\n",
    "        # self.bernoulli_dist = torch.distributions.Bernoulli(0.95)\n",
    "        \n",
    "    def __len__(self):\n",
    "        return len(self.returns) - 1\n",
    "\n",
    "    def __getitem__(self, index):\n",
    "        i, j = self.returns.index[index], self.returns.index[index + 1]\n",
    "        x = self.returns.loc[i].values\n",
    "        y = self.returns.loc[j].values\n",
    "\n",
    "        x = torch.from_numpy(x).float()\n",
    "        y = torch.from_numpy(y).float()\n",
    "\n",
    "        if self.apply_augment:\n",
    "            # add random noise\n",
    "            x = x + (torch.rand_like(x) - 0.5) / 1000\n",
    "\n",
    "            # random zero stock return\n",
    "            m = (torch.rand_like(x) < 0.98)\n",
    "            x = x * m\n",
    "        return x, y"
   ]
  },
  {
   "cell_type": "code",
   "execution_count": 3,
   "metadata": {},
   "outputs": [],
   "source": [
    "with open(\"../train_dataset.pkl\", \"rb\") as f:\n",
    "    train_df = pickle.load(f)\n",
    "\n",
    "train_df = train_df['Adj Close'] # market close value\n",
    "train_df = train_df.fillna(method='ffill') # attempt to fill nan values\n",
    "train_df = train_df.dropna(axis=1) # remove stocks with nan values that couldn't be filled\n",
    "\n",
    "assert pd.isna(train_df).any().sum() == 0\n",
    "\n",
    "stocks = train_df.columns # stocks to keep without nan values\n",
    "\n",
    "with open(\"../test_dataset.pkl\", \"rb\") as f:\n",
    "    test_df = pickle.load(f)\n",
    "\n",
    "test_df = test_df['Adj Close']\n",
    "test_df = test_df[stocks]\n",
    "\n",
    "assert pd.isna(test_df).any().sum() == 0"
   ]
  },
  {
   "cell_type": "code",
   "execution_count": 15,
   "metadata": {},
   "outputs": [
    {
     "name": "stdout",
     "output_type": "stream",
     "text": [
      "train dataset length 1234\n",
      "test dataset length 19\n"
     ]
    },
    {
     "data": {
      "text/plain": [
       "(torch.Size([32, 493]), torch.Size([32, 493]))"
      ]
     },
     "execution_count": 15,
     "metadata": {},
     "output_type": "execute_result"
    }
   ],
   "source": [
    "train_dataset = StockReturnsDataset(train_df, apply_augment=True)\n",
    "test_dataset = StockReturnsDataset(test_df, apply_augment=True)\n",
    "\n",
    "print(\"train dataset length\", len(train_dataset))\n",
    "print(\"test dataset length\", len(test_dataset))\n",
    "\n",
    "train_loader = DataLoader(train_dataset, batch_size=32, shuffle=True)\n",
    "test_loader = DataLoader(test_dataset, batch_size=16, shuffle=False)\n",
    "\n",
    "x,y = next(iter(train_loader))\n",
    "x.shape, y.shape"
   ]
  },
  {
   "cell_type": "code",
   "execution_count": 16,
   "metadata": {},
   "outputs": [
    {
     "data": {
      "text/plain": [
       "(tensor(-0.2815), tensor(0.0032), tensor(0.3986), tensor(0.0259))"
      ]
     },
     "execution_count": 16,
     "metadata": {},
     "output_type": "execute_result"
    }
   ],
   "source": [
    "x.min(), x.mean(), x.max(), x.std()"
   ]
  },
  {
   "cell_type": "code",
   "execution_count": 17,
   "metadata": {},
   "outputs": [
    {
     "data": {
      "text/plain": [
       "tensor(0.0259)"
      ]
     },
     "execution_count": 17,
     "metadata": {},
     "output_type": "execute_result"
    }
   ],
   "source": [
    "torch.std(x)"
   ]
  },
  {
   "cell_type": "code",
   "execution_count": 18,
   "metadata": {},
   "outputs": [],
   "source": [
    "class RRNet(torch.nn.Module):\n",
    "    def __init__(self, dim, depth, activation=torch.nn.ReLU, dropout=0.3, batch_norm=True, skip_connection=True) -> None:\n",
    "        super().__init__()\n",
    "        self.dim = dim\n",
    "        self.depth = depth\n",
    "        self.activation = activation\n",
    "        self.dropout = dropout\n",
    "        self.use_batch_norm = batch_norm\n",
    "        self.use_skip_connection = skip_connection\n",
    "\n",
    "        _mlps = []\n",
    "        for _ in range(depth):\n",
    "            _mlps.append(torch.nn.Linear(dim, dim))\n",
    "            _mlps.append(activation())\n",
    "            if self.use_batch_norm:\n",
    "                _mlps.append(torch.nn.BatchNorm1d(self.dim))\n",
    "            _mlps.append(torch.nn.Dropout(dropout))\n",
    "        _mlps.append(torch.nn.Linear(dim, dim)) # last layer without activation\n",
    "        self.mlps = torch.nn.Sequential(*_mlps)\n",
    "\n",
    "    def forward(self, x):\n",
    "        # forward pass with skip connection\n",
    "        # return x + self.mlps(x)\n",
    "        y = self.mlps(x)\n",
    "\n",
    "        if self.use_skip_connection:\n",
    "            y = x + y\n",
    "\n",
    "        y = y / y.sum(dim=1).unsqueeze(1)\n",
    "\n",
    "        # y = torch.nn.functional.normalize(y, dim=1, p=2)\n",
    "        return y"
   ]
  },
  {
   "cell_type": "code",
   "execution_count": 19,
   "metadata": {},
   "outputs": [],
   "source": [
    "def num_params(module):\n",
    "    return sum(p.numel() for p in module.parameters() if p.requires_grad)"
   ]
  },
  {
   "cell_type": "code",
   "execution_count": 20,
   "metadata": {},
   "outputs": [
    {
     "name": "stdout",
     "output_type": "stream",
     "text": [
      "number of parameters: 1948336\n"
     ]
    },
    {
     "data": {
      "text/plain": [
       "RRNet(\n",
       "  (mlps): Sequential(\n",
       "    (0): Linear(in_features=493, out_features=493, bias=True)\n",
       "    (1): ReLU()\n",
       "    (2): Dropout(p=0.3, inplace=False)\n",
       "    (3): Linear(in_features=493, out_features=493, bias=True)\n",
       "    (4): ReLU()\n",
       "    (5): Dropout(p=0.3, inplace=False)\n",
       "    (6): Linear(in_features=493, out_features=493, bias=True)\n",
       "    (7): ReLU()\n",
       "    (8): Dropout(p=0.3, inplace=False)\n",
       "    (9): Linear(in_features=493, out_features=493, bias=True)\n",
       "    (10): ReLU()\n",
       "    (11): Dropout(p=0.3, inplace=False)\n",
       "    (12): Linear(in_features=493, out_features=493, bias=True)\n",
       "    (13): ReLU()\n",
       "    (14): Dropout(p=0.3, inplace=False)\n",
       "    (15): Linear(in_features=493, out_features=493, bias=True)\n",
       "    (16): ReLU()\n",
       "    (17): Dropout(p=0.3, inplace=False)\n",
       "    (18): Linear(in_features=493, out_features=493, bias=True)\n",
       "    (19): ReLU()\n",
       "    (20): Dropout(p=0.3, inplace=False)\n",
       "    (21): Linear(in_features=493, out_features=493, bias=True)\n",
       "  )\n",
       ")"
      ]
     },
     "execution_count": 20,
     "metadata": {},
     "output_type": "execute_result"
    }
   ],
   "source": [
    "dim = len(stocks)\n",
    "network_depth = 7\n",
    "dropout_rate = 0.3\n",
    "activation = torch.nn.ReLU\n",
    "use_batch_norm = False\n",
    "use_skip_connection = False\n",
    "\n",
    "net = RRNet(\n",
    "    dim=dim, \n",
    "    depth=network_depth, \n",
    "    activation=activation, \n",
    "    dropout=dropout_rate,\n",
    "    batch_norm=use_batch_norm,\n",
    "    skip_connection=use_skip_connection\n",
    ")\n",
    "\n",
    "print(\"number of parameters:\", num_params(net))\n",
    "net"
   ]
  },
  {
   "cell_type": "code",
   "execution_count": 21,
   "metadata": {},
   "outputs": [
    {
     "data": {
      "text/plain": [
       "-42.925716400146484"
      ]
     },
     "execution_count": 21,
     "metadata": {},
     "output_type": "execute_result"
    }
   ],
   "source": [
    "def test_model(model, loader):\n",
    "    \"\"\"\n",
    "    using the network predicted returns to evaluate the model\n",
    "    \"\"\"\n",
    "    S = []\n",
    "    with torch.no_grad():\n",
    "        for x, y in loader:\n",
    "            w = model(x)\n",
    "            r = w * y\n",
    "            s = torch.std(r, dim=-1) / torch.mean(r, dim=-1)\n",
    "            S.append(s)\n",
    "    S = torch.concat(S)\n",
    "    return torch.mean(S).item()\n",
    "\n",
    "test_model(net, test_loader)"
   ]
  },
  {
   "cell_type": "code",
   "execution_count": 22,
   "metadata": {},
   "outputs": [
    {
     "name": "stderr",
     "output_type": "stream",
     "text": [
      "  0%|          | 0/780 [00:00<?, ?it/s, epoch=1, lr=[1e-05]]"
     ]
    },
    {
     "name": "stderr",
     "output_type": "stream",
     "text": [
      "100%|██████████| 780/780 [00:57<00:00, 13.54it/s, epoch=20, lr=[1.25e-06]]"
     ]
    },
    {
     "name": "stdout",
     "output_type": "stream",
     "text": [
      "Best epoch 19 with Sharpe ratio 56.592132568359375\n"
     ]
    },
    {
     "name": "stderr",
     "output_type": "stream",
     "text": [
      "\n"
     ]
    }
   ],
   "source": [
    "# training loop\n",
    "\n",
    "EPOCHS = 20\n",
    "LR = 1e-5\n",
    "device = \"cpu\"\n",
    "\n",
    "optimizer = torch.optim.Adam(net.parameters(), lr=LR, maximize=True)\n",
    "lr_scheduler = torch.optim.lr_scheduler.StepLR(optimizer, 5, gamma=0.5)\n",
    "\n",
    "net.train()\n",
    "\n",
    "test_sharpe_ratio = []\n",
    "best_epoch_sharpe = (-1, -1) # iteration, share ratio\n",
    "\n",
    "with tqdm(total=EPOCHS * len(train_loader), postfix={\"epoch\":0, \"lr\": lr_scheduler.get_last_lr()}) as progress:\n",
    "    for epoch in range(EPOCHS):\n",
    "        progress.set_postfix(epoch=(epoch + 1), lr=lr_scheduler.get_last_lr())\n",
    "        for i, (X, y) in enumerate(train_loader):\n",
    "            X = X.to(device)\n",
    "            y = y.to(device)\n",
    "\n",
    "            # forward\n",
    "            output = net(X)\n",
    "            r = output * y\n",
    "            sharpe_ratio = torch.mean(torch.std(r, dim=-1) / torch.mean(r, dim=-1) + 0.01 * torch.norm(output, p=1, dim=-1))\n",
    "\n",
    "            # backward\n",
    "            optimizer.zero_grad()\n",
    "            sharpe_ratio.backward()\n",
    "            optimizer.step()\n",
    "\n",
    "            # print statistics\n",
    "            # progress.set_postfix(R=R)\n",
    "            progress.update()\n",
    "\n",
    "        # evaluate on test set\n",
    "        ts = test_model(net, test_loader)\n",
    "\n",
    "        if ts > best_epoch_sharpe[1]:\n",
    "            best_epoch_sharpe = (epoch, ts)\n",
    "            torch.save(net.state_dict(), \"sharpe_net_weights.pth\")\n",
    "\n",
    "        test_sharpe_ratio.append(ts)\n",
    "\n",
    "        lr_scheduler.step()\n",
    "\n",
    "print(f\"Best epoch {best_epoch_sharpe[0]} with Sharpe ratio {best_epoch_sharpe[1]}\")"
   ]
  },
  {
   "cell_type": "code",
   "execution_count": 23,
   "metadata": {},
   "outputs": [
    {
     "data": {
      "image/png": "[encoded data removed]",
      "text/plain": [
       "<Figure size 1000x500 with 1 Axes>"
      ]
     },
     "metadata": {},
     "output_type": "display_data"
    }
   ],
   "source": [
    "plt.figure(figsize=(10,5))\n",
    "plt.plot(test_sharpe_ratio, label=\"test\")\n",
    "plt.ylabel(\"Sharpe Ratio\")\n",
    "plt.xlabel(\"Epoch\")\n",
    "plt.show()"
   ]
  },
  {
   "cell_type": "code",
   "execution_count": null,
   "metadata": {},
   "outputs": [],
   "source": []
  }
 ],
 "metadata": {
  "kernelspec": {
   "display_name": "base",
   "language": "python",
   "name": "python3"
  },
  "language_info": {
   "codemirror_mode": {
    "name": "ipython",
    "version": 3
   },
   "file_extension": ".py",
   "mimetype": "text/x-python",
   "name": "python",
   "nbconvert_exporter": "python",
   "pygments_lexer": "ipython3",
   "version": "3.10.12"
  },
  "orig_nbformat": 4
 },
 "nbformat": 4,
 "nbformat_minor": 2
}
